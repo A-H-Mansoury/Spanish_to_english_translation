{
  "cells": [
    {
      "cell_type": "markdown",
      "metadata": {
        "id": "VjpwAzoGFZia"
      },
      "source": [
        "Dataset Link: https://www.kaggle.com/datasets/tejasurya/eng-spanish"
      ]
    },
    {
      "cell_type": "code",
      "execution_count": null,
      "metadata": {
        "id": "dlruWnW0NOe9"
      },
      "outputs": [],
      "source": [
        "SEED = 6845\n",
        "VOCAB_SIZE = 15000\n",
        "BATCH_SIZE = 512"
      ]
    },
    {
      "cell_type": "code",
      "execution_count": null,
      "metadata": {
        "id": "pzWvotIcFEsB"
      },
      "outputs": [],
      "source": [
        "import numpy as np\n",
        "import tensorflow.keras as k\n",
        "import tensorflow as tf\n",
        "import matplotlib.pyplot as plt\n",
        "import random as r\n",
        "import re\n",
        "import string\n",
        "r.seed(SEED)"
      ]
    },
    {
      "cell_type": "markdown",
      "metadata": {
        "id": "5XyUy6lzF3Cp"
      },
      "source": [
        "# Data Preperation"
      ]
    },
    {
      "cell_type": "code",
      "execution_count": null,
      "metadata": {
        "colab": {
          "base_uri": "https://localhost:8080/"
        },
        "id": "5bsazQN9FmSL",
        "outputId": "090ecce0-9b32-423c-fe88-a10c0508a35a"
      },
      "outputs": [
        {
          "name": "stdout",
          "output_type": "stream",
          "text": [
            "archive.zip  eng_spa_rnn2_temp.keras  sample_data  spa-eng  spa.txt\n"
          ]
        }
      ],
      "source": [
        "!ls"
      ]
    },
    {
      "cell_type": "code",
      "execution_count": null,
      "metadata": {
        "colab": {
          "base_uri": "https://localhost:8080/"
        },
        "id": "jH6x3l_8F_g8",
        "outputId": "fa6d2b2a-ea58-4b4a-ccee-6e59aa24c3c5"
      },
      "outputs": [
        {
          "name": "stdout",
          "output_type": "stream",
          "text": [
            "Archive:  archive.zip\n",
            "replace spa-eng/_about.txt? [y]es, [n]o, [A]ll, [N]one, [r]ename: y\n",
            "  inflating: spa-eng/_about.txt      \n",
            "replace spa-eng/spa.txt? [y]es, [n]o, [A]ll, [N]one, [r]ename: n\n",
            "replace spa.txt? [y]es, [n]o, [A]ll, [N]one, [r]ename: n\n"
          ]
        }
      ],
      "source": [
        "!unzip archive.zip"
      ]
    },
    {
      "cell_type": "code",
      "execution_count": null,
      "metadata": {
        "colab": {
          "base_uri": "https://localhost:8080/"
        },
        "id": "jTM6GHe_GKCU",
        "outputId": "e17dd4e6-0f28-4349-f5cf-a459cf02f79d"
      },
      "outputs": [
        {
          "data": {
            "text/plain": [
              "['Go.\\tVe.\\tCC-BY 2.0 (France) Attribution: tatoeba.org #2877272 (CM) & #4986655 (cueyayotl)\\n',\n",
              " 'Go.\\tVete.\\tCC-BY 2.0 (France) Attribution: tatoeba.org #2877272 (CM) & #4986656 (cueyayotl)\\n',\n",
              " 'Go.\\tVaya.\\tCC-BY 2.0 (France) Attribution: tatoeba.org #2877272 (CM) & #4986657 (cueyayotl)\\n',\n",
              " 'Go.\\tVáyase.\\tCC-BY 2.0 (France) Attribution: tatoeba.org #2877272 (CM) & #6586271 (arh)\\n',\n",
              " 'Hi.\\tHola.\\tCC-BY 2.0 (France) Attribution: tatoeba.org #538123 (CM) & #431975 (Leono)\\n',\n",
              " 'Hi.\\tHola\\tCC-BY 2.0 (France) Attribution: tatoeba.org #538123 (CM) & #10908352 (TeacherGeorge123)\\n',\n",
              " 'Run!\\t¡Corre!\\tCC-BY 2.0 (France) Attribution: tatoeba.org #906328 (papabear) & #1685404 (Elenitigormiti)\\n',\n",
              " 'Run!\\t¡Corran!\\tCC-BY 2.0 (France) Attribution: tatoeba.org #906328 (papabear) & #5213896 (cueyayotl)\\n',\n",
              " 'Run!\\t¡Corra!\\tCC-BY 2.0 (France) Attribution: tatoeba.org #906328 (papabear) & #8005613 (Seael)\\n',\n",
              " 'Run!\\t¡Corred!\\tCC-BY 2.0 (France) Attribution: tatoeba.org #906328 (papabear) & #8005615 (Seael)\\n']"
            ]
          },
          "execution_count": 5,
          "metadata": {},
          "output_type": "execute_result"
        }
      ],
      "source": [
        "with open('spa.txt') as f:\n",
        "  rows = f.readlines()\n",
        "rows[0:10]"
      ]
    },
    {
      "cell_type": "code",
      "execution_count": null,
      "metadata": {
        "colab": {
          "base_uri": "https://localhost:8080/"
        },
        "id": "H6tDbH8SGwEo",
        "outputId": "81716975-c019-4db5-f5de-198849ed617c"
      },
      "outputs": [
        {
          "data": {
            "text/plain": [
              "[('Go.', '[start] Ve. [end]'),\n",
              " ('Go.', '[start] Vete. [end]'),\n",
              " ('Go.', '[start] Vaya. [end]'),\n",
              " ('Go.', '[start] Váyase. [end]'),\n",
              " ('Hi.', '[start] Hola. [end]'),\n",
              " ('Hi.', '[start] Hola [end]'),\n",
              " ('Run!', '[start] ¡Corre! [end]'),\n",
              " ('Run!', '[start] ¡Corran! [end]'),\n",
              " ('Run!', '[start] ¡Corra! [end]'),\n",
              " ('Run!', '[start] ¡Corred! [end]')]"
            ]
          },
          "execution_count": 6,
          "metadata": {},
          "output_type": "execute_result"
        }
      ],
      "source": [
        "pairs = []\n",
        "for row in rows:\n",
        "  tmp = row.split('\\t')\n",
        "  pairs.append(\n",
        "      (tmp[0], '[start] %s [end]'%tmp[1])\n",
        "      )\n",
        "pairs[:10]"
      ]
    },
    {
      "cell_type": "code",
      "execution_count": null,
      "metadata": {
        "id": "LQupoi-bI8XQ"
      },
      "outputs": [],
      "source": [
        "def train_test_val_split(pairs, val_percent, test_percent):\n",
        "  r.shuffle(pairs)\n",
        "  length = len(pairs)\n",
        "  num_val = int(length*val_percent)\n",
        "  num_test = int(length*test_percent)\n",
        "  return pairs[num_val+num_test:], pairs[:num_test], pairs[num_test: num_val+num_test]"
      ]
    },
    {
      "cell_type": "code",
      "execution_count": null,
      "metadata": {
        "id": "NEHCY7oWI8SX"
      },
      "outputs": [],
      "source": [
        "train, test, val = train_test_val_split(pairs, 0.15, 0.15)"
      ]
    },
    {
      "cell_type": "code",
      "execution_count": null,
      "metadata": {
        "colab": {
          "base_uri": "https://localhost:8080/",
          "height": 35
        },
        "id": "Uh-ZmgEqMDep",
        "outputId": "d6946fb4-8f50-45fa-d545-d4e570c7674a"
      },
      "outputs": [
        {
          "data": {
            "application/vnd.google.colaboratory.intrinsic+json": {
              "type": "string"
            },
            "text/plain": [
              "'!\"#$%&\\'()*+,-./:;<=>?@[\\\\]^_`{|}~'"
            ]
          },
          "execution_count": 9,
          "metadata": {},
          "output_type": "execute_result"
        }
      ],
      "source": [
        "string.punctuation"
      ]
    },
    {
      "cell_type": "code",
      "execution_count": 22,
      "metadata": {
        "id": "BLZIIg7BLAVR"
      },
      "outputs": [],
      "source": [
        "to_remove = string.punctuation+\"¿\"\n",
        "to_remove = to_remove.replace('[','')\n",
        "to_remove = to_remove.replace(']','')\n",
        "\n",
        "def spanish_standardization(x):\n",
        "  return tf.strings.regex_replace(\n",
        "      tf.strings.lower(x),\n",
        "      \"[%s]\"%re.escape(to_remove),\n",
        "      \"\"\n",
        "  )\n",
        "\n",
        "en_vectorizer = k.layers.TextVectorization(\n",
        "    max_tokens=VOCAB_SIZE,\n",
        "    output_mode='int'\n",
        "    )\n",
        "sp_vectorizer = k.layers.TextVectorization(\n",
        "    max_tokens=VOCAB_SIZE,\n",
        "    output_mode='int',\n",
        "    standardize=spanish_standardization\n",
        "    )\n",
        "\n",
        "en_text = list(map(lambda x: x[0], train))\n",
        "sp_text = list(map(lambda x: x[1], train))\n",
        "\n",
        "en_vectorizer.adapt(en_text)\n",
        "sp_vectorizer.adapt(sp_text)"
      ]
    },
    {
      "cell_type": "code",
      "execution_count": null,
      "metadata": {
        "id": "2glUNlW1LARz"
      },
      "outputs": [],
      "source": [
        "def format_dataset(en, sp):\n",
        "  global en_vectorizer, sp_vectorizer\n",
        "  en = en_vectorizer(en)\n",
        "  sp = sp_vectorizer(sp)\n",
        "  return (\n",
        "      {\n",
        "          \"english\": en,\n",
        "          \"spanish\": sp[:, :-1]\n",
        "      },\n",
        "      sp[:, 1:]\n",
        "  )"
      ]
    },
    {
      "cell_type": "code",
      "execution_count": null,
      "metadata": {
        "id": "S5g74G4CLAPT"
      },
      "outputs": [],
      "source": [
        "def make_dataset(pairs):\n",
        "  eng_texts, spa_texts = zip(*pairs)\n",
        "  eng_texts = list(eng_texts)\n",
        "  spa_texts = list(spa_texts)\n",
        "  dataset = tf.data.Dataset.from_tensor_slices((eng_texts, spa_texts))\n",
        "  dataset = dataset.batch(BATCH_SIZE)\n",
        "  dataset = dataset.map(format_dataset)\n",
        "  return dataset.shuffle(SEED).prefetch(16).cache()"
      ]
    },
    {
      "cell_type": "code",
      "execution_count": null,
      "metadata": {
        "id": "61LUFhN7LAM0"
      },
      "outputs": [],
      "source": [
        "train_ds = make_dataset(train)\n",
        "val_ds = make_dataset(val)"
      ]
    },
    {
      "cell_type": "code",
      "execution_count": null,
      "metadata": {
        "id": "rBflSsfjLAKa"
      },
      "outputs": [],
      "source": [
        "EMBED_DIM = 256\n",
        "LATENT_DIM = 1024\n",
        "\n",
        "encoder_input = k.Input(shape=(None,), dtype='int64', name='english')\n",
        "x1 = k.layers.Embedding(VOCAB_SIZE, EMBED_DIM, mask_zero=True)(encoder_input)\n",
        "\n",
        "decoder_input = k.Input(shape=(None,), dtype='int64', name='spanish')\n",
        "x2 = k.layers.Embedding(VOCAB_SIZE, EMBED_DIM, mask_zero=True)(decoder_input)\n",
        "\n",
        "encoder_bidirectional_gru = k.layers.Bidirectional(\n",
        "    k.layers.GRU(LATENT_DIM),\n",
        "    merge_mode = 'sum'\n",
        ")(x1)\n",
        "\n",
        "decoder_gru = k.layers.GRU(LATENT_DIM, return_sequences=True)(\n",
        "    x2,\n",
        "    initial_state = encoder_bidirectional_gru\n",
        "    )\n",
        "x3 = k.layers.Dropout(0.5)(decoder_gru)\n",
        "target = k.layers.Dense(VOCAB_SIZE, activation='softmax')(x3)\n",
        "\n",
        "seq2seq_rnn = k.Model(\n",
        "    [encoder_input, decoder_input],\n",
        "    target\n",
        ")"
      ]
    },
    {
      "cell_type": "code",
      "source": [
        "seq2seq_rnn.summary()"
      ],
      "metadata": {
        "id": "XBMbvJH67xwo",
        "outputId": "7e6d0896-2b51-48da-ed8d-d338ea1471a1",
        "colab": {
          "base_uri": "https://localhost:8080/"
        }
      },
      "execution_count": 36,
      "outputs": [
        {
          "output_type": "stream",
          "name": "stdout",
          "text": [
            "Model: \"model\"\n",
            "__________________________________________________________________________________________________\n",
            " Layer (type)                   Output Shape         Param #     Connected to                     \n",
            "==================================================================================================\n",
            " english (InputLayer)           [(None, None)]       0           []                               \n",
            "                                                                                                  \n",
            " spanish (InputLayer)           [(None, None)]       0           []                               \n",
            "                                                                                                  \n",
            " embedding (Embedding)          (None, None, 256)    3840000     ['english[0][0]']                \n",
            "                                                                                                  \n",
            " embedding_1 (Embedding)        (None, None, 256)    3840000     ['spanish[0][0]']                \n",
            "                                                                                                  \n",
            " bidirectional (Bidirectional)  (None, 1024)         7876608     ['embedding[0][0]']              \n",
            "                                                                                                  \n",
            " gru_1 (GRU)                    (None, None, 1024)   3938304     ['embedding_1[0][0]',            \n",
            "                                                                  'bidirectional[0][0]']          \n",
            "                                                                                                  \n",
            " dropout (Dropout)              (None, None, 1024)   0           ['gru_1[0][0]']                  \n",
            "                                                                                                  \n",
            " dense (Dense)                  (None, None, 15000)  15375000    ['dropout[0][0]']                \n",
            "                                                                                                  \n",
            "==================================================================================================\n",
            "Total params: 34,869,912\n",
            "Trainable params: 34,869,912\n",
            "Non-trainable params: 0\n",
            "__________________________________________________________________________________________________\n"
          ]
        }
      ]
    },
    {
      "cell_type": "code",
      "source": [
        "from keras.utils.vis_utils import plot_model\n",
        "plot_model(seq2seq_rnn)"
      ],
      "metadata": {
        "id": "7006YQlZ7_po",
        "outputId": "21c90cba-33ed-4980-9bd4-810e7273234b",
        "colab": {
          "base_uri": "https://localhost:8080/",
          "height": 564
        }
      },
      "execution_count": 41,
      "outputs": [
        {
          "output_type": "execute_result",
          "data": {
            "image/png": "[encoded data removed]",
            "text/plain": [
              "<IPython.core.display.Image object>"
            ]
          },
          "metadata": {},
          "execution_count": 41
        }
      ]
    },
    {
      "cell_type": "code",
      "execution_count": null,
      "metadata": {
        "colab": {
          "background_save": true,
          "base_uri": "https://localhost:8080/"
        },
        "id": "FhDr8hOMLAH7",
        "outputId": "691a3a30-178e-4100-e956-7d93b3dc0168"
      },
      "outputs": [
        {
          "name": "stdout",
          "output_type": "stream",
          "text": [
            "Epoch 1/20\n",
            "191/191 [==============================] - 122s 575ms/step - loss: 2.3511 - accuracy: 0.5448 - val_loss: 2.3912 - val_accuracy: 0.5549\n",
            "Epoch 2/20\n",
            "191/191 [==============================] - 96s 502ms/step - loss: 2.2523 - accuracy: 0.5576 - val_loss: 2.3127 - val_accuracy: 0.5686\n",
            "Epoch 3/20\n",
            "191/191 [==============================] - 98s 513ms/step - loss: 2.1714 - accuracy: 0.5678 - val_loss: 2.2604 - val_accuracy: 0.5738\n",
            "Epoch 4/20\n",
            "191/191 [==============================] - 95s 500ms/step - loss: 2.0805 - accuracy: 0.5796 - val_loss: 2.2051 - val_accuracy: 0.5832\n",
            "Epoch 5/20\n",
            "191/191 [==============================] - 95s 499ms/step - loss: 2.0033 - accuracy: 0.5901 - val_loss: 2.1450 - val_accuracy: 0.5916\n",
            "Epoch 6/20\n",
            "191/191 [==============================] - 95s 499ms/step - loss: 1.9309 - accuracy: 0.6000 - val_loss: 2.1101 - val_accuracy: 0.5977\n",
            "Epoch 7/20\n",
            "191/191 [==============================] - 95s 499ms/step - loss: 1.8599 - accuracy: 0.6096 - val_loss: 2.0616 - val_accuracy: 0.6064\n",
            "Epoch 8/20\n",
            "191/191 [==============================] - 95s 498ms/step - loss: 1.7915 - accuracy: 0.6196 - val_loss: 2.0366 - val_accuracy: 0.6087\n",
            "Epoch 9/20\n",
            "191/191 [==============================] - 95s 499ms/step - loss: 1.7335 - accuracy: 0.6281 - val_loss: 1.9860 - val_accuracy: 0.6165\n",
            "Epoch 10/20\n",
            "191/191 [==============================] - 95s 498ms/step - loss: 1.6682 - accuracy: 0.6380 - val_loss: 1.9673 - val_accuracy: 0.6210\n",
            "Epoch 11/20\n",
            "191/191 [==============================] - 95s 499ms/step - loss: 1.6355 - accuracy: 0.6437 - val_loss: 1.9271 - val_accuracy: 0.6271\n",
            "Epoch 12/20\n",
            "191/191 [==============================] - 98s 515ms/step - loss: 1.5516 - accuracy: 0.6554 - val_loss: 1.9109 - val_accuracy: 0.6302\n",
            "Epoch 13/20\n",
            "191/191 [==============================] - 96s 501ms/step - loss: 1.5018 - accuracy: 0.6635 - val_loss: 1.8815 - val_accuracy: 0.6355\n",
            "Epoch 14/20\n",
            "191/191 [==============================] - 93s 488ms/step - loss: 1.4481 - accuracy: 0.6727 - val_loss: 1.8624 - val_accuracy: 0.6399\n",
            "Epoch 15/20\n",
            "191/191 [==============================] - 90s 470ms/step - loss: 1.4003 - accuracy: 0.6801 - val_loss: 1.8640 - val_accuracy: 0.6395\n",
            "Epoch 16/20\n",
            "191/191 [==============================] - 95s 499ms/step - loss: 1.3518 - accuracy: 0.6892 - val_loss: 1.8369 - val_accuracy: 0.6438\n",
            "Epoch 17/20\n",
            "191/191 [==============================] - 98s 513ms/step - loss: 1.3023 - accuracy: 0.6976 - val_loss: 1.8166 - val_accuracy: 0.6469\n",
            "Epoch 18/20\n",
            "191/191 [==============================] - 95s 498ms/step - loss: 1.2593 - accuracy: 0.7046 - val_loss: 1.7981 - val_accuracy: 0.6511\n",
            "Epoch 19/20\n",
            "191/191 [==============================] - 95s 497ms/step - loss: 1.2192 - accuracy: 0.7119 - val_loss: 1.7940 - val_accuracy: 0.6520\n",
            "Epoch 20/20\n",
            "191/191 [==============================] - 95s 498ms/step - loss: 1.1863 - accuracy: 0.7185 - val_loss: 1.7844 - val_accuracy: 0.6533\n"
          ]
        },
        {
          "data": {
            "text/plain": [
              "<keras.callbacks.History at 0x7f9a741236d0>"
            ]
          },
          "execution_count": 18,
          "metadata": {},
          "output_type": "execute_result"
        }
      ],
      "source": [
        "filename = \"eng_spa_rnn2_temp.keras\"\n",
        "callbacks = [k.callbacks.ModelCheckpoint(filename,save_best_only=True)]\n",
        "seq2seq_rnn.compile(\n",
        "    optimizer=\"rmsprop\",\n",
        "    loss=\"sparse_categorical_crossentropy\",\n",
        "  metrics=[\"accuracy\"]\n",
        ")\n",
        "seq2seq_rnn.fit(train_ds.cache(), epochs=20, validation_data=val_ds.cache(), callbacks=callbacks)"
      ]
    },
    {
      "cell_type": "code",
      "execution_count": 32,
      "metadata": {
        "id": "O5ccGQR_LAFF"
      },
      "outputs": [],
      "source": [
        "def decode_sequence(input_sentence, max_decoded_length=20):\n",
        "  global en_vectorizer, sp_vectorizer\n",
        "  input_tokens = en_vectorizer([input_sentence])\n",
        "  decoded_sentence = \"[start]\"\n",
        "  for i in range(max_decoded_length):\n",
        "    target_tokens = sp_vectorizer([decoded_sentence])\n",
        "    next_token = seq2seq_rnn.predict([input_tokens, target_tokens], verbose = 0)\n",
        "    sampled_token_index = np.argmax(next_token[0, i, :])\n",
        "    spa_vocab = sp_vectorizer.get_vocabulary()\n",
        "    sampled_token = spa_vocab[sampled_token_index]\n",
        "    decoded_sentence += \" \" + sampled_token\n",
        "    if sampled_token == \"[end]\":\n",
        "      break\n",
        "  return decoded_sentence"
      ]
    },
    {
      "cell_type": "code",
      "execution_count": 33,
      "metadata": {
        "colab": {
          "base_uri": "https://localhost:8080/",
          "height": 35
        },
        "id": "U07_psKCLACU",
        "outputId": "ac5b10dc-4d3b-42d4-9c15-3212bffacb9f"
      },
      "outputs": [
        {
          "output_type": "execute_result",
          "data": {
            "text/plain": [
              "'[start] este es un libro [end]'"
            ],
            "application/vnd.google.colaboratory.intrinsic+json": {
              "type": "string"
            }
          },
          "metadata": {},
          "execution_count": 33
        }
      ],
      "source": [
        "decode_sequence('this is a book')"
      ]
    },
    {
      "cell_type": "code",
      "execution_count": 34,
      "metadata": {
        "id": "PBeJ6yQRK_2c",
        "colab": {
          "base_uri": "https://localhost:8080/",
          "height": 35
        },
        "outputId": "9249ce46-cd9c-4040-adb7-eba864bba5a8"
      },
      "outputs": [
        {
          "output_type": "execute_result",
          "data": {
            "text/plain": [
              "'[start] desafortunadamente mi nombre es [UNK] [end]'"
            ],
            "application/vnd.google.colaboratory.intrinsic+json": {
              "type": "string"
            }
          },
          "metadata": {},
          "execution_count": 34
        }
      ],
      "source": [
        "decode_sequence('hi! my name is Sam.')"
      ]
    },
    {
      "cell_type": "code",
      "source": [
        "[(decode_sequence(x[0]), x[1]) for x in test[:10]]"
      ],
      "metadata": {
        "id": "2qbO2sNE5RSm",
        "outputId": "a91b6cea-5fa7-44af-b164-c0a420f91fdd",
        "colab": {
          "base_uri": "https://localhost:8080/"
        }
      },
      "execution_count": 35,
      "outputs": [
        {
          "output_type": "execute_result",
          "data": {
            "text/plain": [
              "[('[start] ella se [UNK] a la [UNK] en la espalda [end]',\n",
              "  '[start] Ella se estiró para aliviar su rigidez de espalda. [end]'),\n",
              " ('[start] siempre he terminado de comida solo [end]',\n",
              "  '[start] Siempre he preferido trabajar solo. [end]'),\n",
              " ('[start] todos mis sueños se hacen [end]',\n",
              "  '[start] Toda mi tarea está hecha. [end]'),\n",
              " ('[start] tom no tuvo el valor para ir allí solo [end]',\n",
              "  '[start] Tom no tuvo el valor para ir ahí por sí solo. [end]'),\n",
              " ('[start] tom nunca respondió [end]', '[start] Tom nunca escucha. [end]'),\n",
              " ('[start] por favor [UNK] la carta por favor [end]',\n",
              "  '[start] Baja un poco la música por favor. [end]'),\n",
              " ('[start] ya te he olvidado de ti [end]', '[start] Ya te pagué. [end]'),\n",
              " ('[start] tom habló en un segundo [end]',\n",
              "  '[start] Tom habló en sus sueños. [end]'),\n",
              " ('[start] podría salir a que te quedes [end]',\n",
              "  '[start] Podría ordenarte que te quedes. [end]'),\n",
              " ('[start] el marido de tom es rico [end]',\n",
              "  '[start] El esposo de Mary es rico. [end]')]"
            ]
          },
          "metadata": {},
          "execution_count": 35
        }
      ]
    },
    {
      "cell_type": "markdown",
      "source": [
        "\n",
        "The results from google tranlate\n",
        "```\n",
        "[('[start] she will [UNK] to the [UNK] on the back [end]',\n",
        "   '[start] She stretched to ease the stiffness in her back. [end]'),\n",
        "  ('[start] I've always finished food by myself [end]',\n",
        "   '[start] I have always preferred to work alone. [end]'),\n",
        "  ('[start] all my dreams come true [end]',\n",
        "   '[start] All my homework is done. [end]'),\n",
        "  ('[start] tom didn't have the courage to go there by himself [end]',\n",
        "   '[start] Tom didn't have the courage to go there by himself. [end]'),\n",
        "  ('[start] tom never answered [end]', '[start] Tom never listens. [end]'),\n",
        "  ('[start] please [UNK] the letter please [end]',\n",
        "   '[start] Turn the music down a bit please. [end]'),\n",
        "  ('[start] I already forgot about you [end]', '[start] I already paid you. [end]'),\n",
        "  ('[start] tom spoke in a second [end]',\n",
        "   '[start] Tom spoke in his sleep. [end]'),\n",
        "  ('[start] could leave for you to stay [end]',\n",
        "   '[start] I could order you to stay. [end]'),\n",
        "  ('[start] tom's husband is rich [end]',\n",
        "   '[start] Mary's husband is rich. [end]')]\n",
        "   ```"
      ],
      "metadata": {
        "id": "daAWjgbb7OkY"
      }
    }
  ],
  "metadata": {
    "accelerator": "GPU",
    "colab": {
      "provenance": []
    },
    "kernelspec": {
      "display_name": "Python 3",
      "name": "python3"
    },
    "language_info": {
      "name": "python"
    }
  },
  "nbformat": 4,
  "nbformat_minor": 0
}